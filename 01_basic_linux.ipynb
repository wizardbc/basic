{
 "cells": [
  {
   "attachments": {},
   "cell_type": "markdown",
   "metadata": {},
   "source": [
    "# Back to the Basic (Part 1. Linux)\n",
    "\n",
    "* 2023.05.01.(Mon)\n",
    "* Dept. of Math., Inha Univ.\n",
    "* Byung Chun Kim (wizardbc@gmail.com)"
   ]
  },
  {
   "attachments": {},
   "cell_type": "markdown",
   "metadata": {},
   "source": [
    "## Could\n",
    "\n",
    "* [VULTR](https://www.vultr.com)"
   ]
  },
  {
   "attachments": {},
   "cell_type": "markdown",
   "metadata": {},
   "source": [
    "### Firewall Setting\n",
    "* Products > Network > Firewall\n",
    "  * SSH Only"
   ]
  },
  {
   "attachments": {},
   "cell_type": "markdown",
   "metadata": {},
   "source": [
    "### Add your SSH key\n",
    "\n",
    "* [VOLTR Docs - How Do I Generate SSH Keys?](https://www.vultr.com/docs/how-do-i-generate-ssh-keys/)\n",
    "\n",
    "![ssh_keys](./resorces/ssh_keys.png)\n",
    "```bash\n",
    "ssh-keygen -t ed25519 -C \"your_email@example.com\"\n",
    "cd ~/.ssh\n",
    "cat id_ed25519.pub\n",
    "```"
   ]
  },
  {
   "attachments": {},
   "cell_type": "markdown",
   "metadata": {},
   "source": [
    "### Deploy New Server\n",
    "\n",
    "* Select Options\n",
    "  * Cloud GPU\n",
    "  * NVIDIA A16\n",
    "  * Tokyo\n",
    "  * Ubuntu 22.04 LTS x64\n",
    "  * 1/16 GPU\n",
    "  * `OFF` Enable Auto Backups\n",
    "  * `Disable` IPv6\n",
    "  * Select added SSH key\n",
    "  * Firewall Group (SSH Only)\n",
    "  * Enter server hostname\n",
    "* Check the summary: $21.50/month\n",
    "* Click `Deploy Now`"
   ]
  },
  {
   "attachments": {},
   "cell_type": "markdown",
   "metadata": {},
   "source": [
    "### Products\n",
    "\n",
    "![products](./resorces/products.png)\n",
    "\n",
    "* Select my server\n",
    "* Copy `IP Address`\n",
    "* Open terminal\n",
    "```bash\n",
    "ssh root@{ip address}\n",
    "```"
   ]
  },
  {
   "attachments": {},
   "cell_type": "markdown",
   "metadata": {},
   "source": [
    "### Add user\n",
    "\n",
    "```bash\n",
    "adduser {username}\n",
    "usermod -a -G sudo {username}\n",
    "mkdir ~{username}/.ssh\n",
    "chmod 700 ~{username}/.ssh\n",
    "cp /root/.ssh/authorized_keys ~{username}/.ssh\n",
    "chown -R {username}.{username} ~{username}/.ssh\n",
    "exit\n",
    "\n",
    "ssh {username}@{ip address}\n",
    "```"
   ]
  },
  {
   "attachments": {},
   "cell_type": "markdown",
   "metadata": {},
   "source": [
    "### Driver\n",
    "* [VULTR Docs](https://www.vultr.com/docs/introduction-to-vultr-cloud-gpus-powered-by-nvidia-a16/)\n",
    "\n",
    "***Only for Training***\n",
    "```bash\n",
    "nvidia-smi\n",
    "\n",
    "sudo apt update\n",
    "sudo apt upgrade\n",
    "sudo reboot\n",
    "\n",
    "ssh {username}@{ip address}\n",
    "nvidia-smi\n",
    "```\n",
    "\n",
    "* Manual Installation\n",
    "```bash\n",
    "mkdir -p ~/Downloads/\n",
    "wget http://169.254.169.254/latest/nvidia_linux_driver_url -O ~/Downloads/nvidia_manual_driver.run\n",
    "sudo bash ~/Downloads/nvidia_manual_driver.run --ui=none --no-questions\n",
    "sudo reboot\n",
    "ssh {username}@{ip address}\n",
    "nvidia-smi\n",
    "```"
   ]
  },
  {
   "attachments": {},
   "cell_type": "markdown",
   "metadata": {},
   "source": [
    "## Environment"
   ]
  },
  {
   "attachments": {},
   "cell_type": "markdown",
   "metadata": {},
   "source": [
    "### Conda\n",
    "\n",
    "* [Miniconda](https://docs.conda.io/en/latest/miniconda.html)\n",
    "\n",
    "```bash\n",
    "wget https://repo.anaconda.com/miniconda/Miniconda3-latest-Linux-x86_64.sh -O ~/Downloads/miniconda.sh\n",
    "bash ~/Downloads/miniconda.sh\n",
    "conda update -n base -c defaults conda\n",
    "```"
   ]
  },
  {
   "attachments": {},
   "cell_type": "markdown",
   "metadata": {},
   "source": [
    "### VSCode\n",
    "\n",
    "* [VS Code](https://code.visualstudio.com) > Extensions > Remote - SSH\n",
    "  * Open Terminal ``ctrl+shift+` ``\n",
    "\n",
    "```bash\n",
    "mkdir work\n",
    "```\n",
    "\n",
    "* Open Folder"
   ]
  },
  {
   "attachments": {},
   "cell_type": "markdown",
   "metadata": {},
   "source": [
    "### Create Environment\n",
    "\n",
    "#### Install [PyTorch](https://pytorch.org/get-started/locally/)\n",
    "\n",
    "Currently PyTorch 2.0 support CUDA 11.7 and **11.8** (NOT 12.0).\n",
    "```bash\n",
    "conda create -n minimal python=3.10 ipykernel ipywidgets \n",
    "conda create -n minimal_torch --clone minimal\n",
    "conda install -n minimal_torch pytorch torchvision torchaudio pytorch-cuda=11.8 -c pytorch -c nvidia\n",
    "conda activate minimal_torch\n",
    "\n",
    "python\n",
    "```\n",
    "\n",
    "```python\n",
    ">>> import torch\n",
    ">>> torch.cuda.is_available()\n",
    "True\n",
    ">>> exit() # or ctrl+d\n",
    "```"
   ]
  },
  {
   "attachments": {},
   "cell_type": "markdown",
   "metadata": {},
   "source": [
    "#### Install [JAX](https://github.com/google/jax#installation)\n",
    "\n",
    "JAX currently ships three CUDA wheel variants:\n",
    "\n",
    "* CUDA 12.0 and CuDNN 8.8.\n",
    "* **CUDA 11.8** and CuDNN 8.6.\n",
    "* CUDA 11.4 and CuDNN 8.2. This wheel is deprecated and will be discontinued with jax 0.4.8.\n",
    "\n",
    "```bash\n",
    "conda create -n torch_jax --clone minimal_torch\n",
    "conda activate torch_jax\n",
    "pip install --upgrade \"jax[cuda11_pip]\" -f https://storage.googleapis.com/jax-releases/jax_cuda_releases.html\n",
    "```"
   ]
  },
  {
   "attachments": {},
   "cell_type": "markdown",
   "metadata": {},
   "source": [
    "### Jupyter Notebook\n",
    "\n",
    "* Create new file `test.ipynb`\n",
    "* Select Kernel > Python Environments... > torch_jax\n"
   ]
  },
  {
   "cell_type": "code",
   "execution_count": null,
   "metadata": {},
   "outputs": [],
   "source": [
    "%env XLA_PYTHON_CLIENT_PREALLOCATE=false\n",
    "\n",
    "import numpy as np\n",
    "import jax.numpy as jnp\n",
    "from jax import random, device_put\n",
    "\n",
    "size = 1000\n",
    "x = np.random.normal(size=(size, size)).astype(np.float32)"
   ]
  },
  {
   "cell_type": "code",
   "execution_count": null,
   "metadata": {},
   "outputs": [],
   "source": [
    "%timeit np.dot(x, x.T)  # runs on the CPU"
   ]
  },
  {
   "cell_type": "code",
   "execution_count": null,
   "metadata": {},
   "outputs": [],
   "source": [
    "x = device_put(x)"
   ]
  },
  {
   "cell_type": "code",
   "execution_count": null,
   "metadata": {},
   "outputs": [],
   "source": [
    "%timeit jnp.dot(x, x.T).block_until_ready()  # runs on the GPU"
   ]
  }
 ],
 "metadata": {
  "language_info": {
   "name": "python"
  },
  "orig_nbformat": 4
 },
 "nbformat": 4,
 "nbformat_minor": 2
}
